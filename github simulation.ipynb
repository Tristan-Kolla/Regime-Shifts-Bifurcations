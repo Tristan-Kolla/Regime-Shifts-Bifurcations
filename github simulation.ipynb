{
 "cells": [
  {
   "cell_type": "markdown",
   "id": "78098abf",
   "metadata": {},
   "source": [
    "# Two-Patch Tri-Trophic Food Web Simulation"
   ]
  },
  {
   "cell_type": "markdown",
   "id": "dfa83343",
   "metadata": {},
   "source": []
  },
  {
   "cell_type": "markdown",
   "id": "8290fe33",
   "metadata": {},
   "source": [
    "### Importing Packages"
   ]
  },
  {
   "cell_type": "code",
   "execution_count": 5,
   "id": "73165830",
   "metadata": {},
   "outputs": [
    {
     "name": "stderr",
     "output_type": "stream",
     "text": [
      "\u001b[32m\u001b[1m   Resolving\u001b[22m\u001b[39m package versions...\n",
      "\u001b[32m\u001b[1m  No Changes\u001b[22m\u001b[39m to `C:\\Users\\T_kolla\\.julia\\environments\\v1.8\\Project.toml`\n",
      "\u001b[32m\u001b[1m  No Changes\u001b[22m\u001b[39m to `C:\\Users\\T_kolla\\.julia\\environments\\v1.8\\Manifest.toml`\n",
      "\u001b[32m\u001b[1m   Resolving\u001b[22m\u001b[39m package versions...\n",
      "\u001b[32m\u001b[1m  No Changes\u001b[22m\u001b[39m to `C:\\Users\\T_kolla\\.julia\\environments\\v1.8\\Project.toml`\n",
      "\u001b[32m\u001b[1m  No Changes\u001b[22m\u001b[39m to `C:\\Users\\T_kolla\\.julia\\environments\\v1.8\\Manifest.toml`\n",
      "\u001b[32m\u001b[1m   Resolving\u001b[22m\u001b[39m package versions...\n",
      "\u001b[32m\u001b[1m  No Changes\u001b[22m\u001b[39m to `C:\\Users\\T_kolla\\.julia\\environments\\v1.8\\Project.toml`\n",
      "\u001b[32m\u001b[1m  No Changes\u001b[22m\u001b[39m to `C:\\Users\\T_kolla\\.julia\\environments\\v1.8\\Manifest.toml`\n",
      "\u001b[32m\u001b[1m   Resolving\u001b[22m\u001b[39m package versions...\n",
      "\u001b[32m\u001b[1m  No Changes\u001b[22m\u001b[39m to `C:\\Users\\T_kolla\\.julia\\environments\\v1.8\\Project.toml`\n",
      "\u001b[32m\u001b[1m  No Changes\u001b[22m\u001b[39m to `C:\\Users\\T_kolla\\.julia\\environments\\v1.8\\Manifest.toml`\n",
      "\u001b[32m\u001b[1m   Resolving\u001b[22m\u001b[39m package versions...\n",
      "\u001b[32m\u001b[1m  No Changes\u001b[22m\u001b[39m to `C:\\Users\\T_kolla\\.julia\\environments\\v1.8\\Project.toml`\n",
      "\u001b[32m\u001b[1m  No Changes\u001b[22m\u001b[39m to `C:\\Users\\T_kolla\\.julia\\environments\\v1.8\\Manifest.toml`\n",
      "\u001b[32m\u001b[1m   Resolving\u001b[22m\u001b[39m package versions...\n",
      "\u001b[32m\u001b[1m  No Changes\u001b[22m\u001b[39m to `C:\\Users\\T_kolla\\.julia\\environments\\v1.8\\Project.toml`\n",
      "\u001b[32m\u001b[1m  No Changes\u001b[22m\u001b[39m to `C:\\Users\\T_kolla\\.julia\\environments\\v1.8\\Manifest.toml`\n",
      "\u001b[32m\u001b[1m   Resolving\u001b[22m\u001b[39m package versions...\n",
      "\u001b[32m\u001b[1m  No Changes\u001b[22m\u001b[39m to `C:\\Users\\T_kolla\\.julia\\environments\\v1.8\\Project.toml`\n",
      "\u001b[32m\u001b[1m  No Changes\u001b[22m\u001b[39m to `C:\\Users\\T_kolla\\.julia\\environments\\v1.8\\Manifest.toml`\n"
     ]
    },
    {
     "data": {
      "text/plain": [
       "#3 (generic function with 1 method)"
      ]
     },
     "execution_count": 5,
     "metadata": {},
     "output_type": "execute_result"
    }
   ],
   "source": [
    "import Pkg\n",
    "\n",
    "Pkg.add(\"Revise\")\n",
    "Pkg.add(\"LinearAlgebra\")\n",
    "Pkg.add(\"Parameters\")\n",
    "Pkg.add(\"Plots\")\n",
    "Pkg.add(\"Setfield\")\n",
    "Pkg.add(\"BifurcationKit\")\n",
    "Pkg.add(\"OrdinaryDiffEq\")\n",
    "\n",
    "#Supremum Norm\n",
    "norminf = x -> norm(x, Inf)"
   ]
  },
  {
   "cell_type": "markdown",
   "id": "d2d5f1fe",
   "metadata": {},
   "source": [
    "### Model Specifications"
   ]
  },
  {
   "cell_type": "code",
   "execution_count": 13,
   "id": "1226b2b5",
   "metadata": {},
   "outputs": [
    {
     "data": {
      "text/plain": [
       "(0.0, 1000.0)"
      ]
     },
     "execution_count": 13,
     "metadata": {},
     "output_type": "execute_result"
    }
   ],
   "source": [
    "#Two-patch tri-trophic food web modeled as a vector field\n",
    "function VF!(dz, z, p, t)\n",
    "    p₁, p₂, p₃, p₄ = p         #Parameters\n",
    "    u₁, u₂, u₃, u₄, u₅, u₆ = z #State Variables\n",
    "    \n",
    "    #Predator Equations\n",
    "    dz[1] = u₅/tmat - m*u₁ - p₁*u₁ + s + σ₁*γ*p₂*u₂ - σ₂*p₂*u₁*p₄        #Predator; Littoral\n",
    "    dz[2] = u₆/tmat - m*u₂ - p₁*u₂ + s - σ₁*p₂*u₂   + σ₂*(1/γ)*p₂*u₁*p₄  #Predator; Palagic\n",
    "\n",
    "    #Foragers Equations\n",
    "    dz[3] = r*u₃ - b*u₃*u₃ - h/p₃*u₁*u₃ + i + ϵ*k/p₃*u₃*u₅ + σ₃*γ*p₂*u₄ - σ₄*p₂*u₃       #Forager; Littoral    \n",
    "    dz[4] = r*u₄ - b*u₄*u₄ - h*u₂*u₄    + i + ϵ*k*u₄*u₆    - σ₃*p₂*u₄   + σ₄*(1/γ)*p₂*u₃ #Forager; Palagic \n",
    "    \n",
    "    #Juveniles Equations\n",
    "    dz[5] = f*(u₁+γ*u₂) + ϵ*(h/p₃*u₁*u₃ + h*u₂*u₄)  - u₅/tmat - m*u₅ - c*u₁*u₅ - k/p₃*u₃*u₅ + σ₅*γ*p₂*u₆*p₄ - σ₆*p₂*u₅    #Juveniles; Littoral\n",
    "    dz[6] = -u₆/tmat    - m*u₆ - c*u₂*u₆ - k*u₄*u₆  - σ₅*p₂*u₆*p₄ + σ₆*(1/γ)*p₂*u₅                                        #Juveniles; Palagic\n",
    "    return dz\n",
    "end\n",
    "\n",
    "#Constants \n",
    "const m    = 0.250 #Mortality P and J\n",
    "const s    = 0.050 #Stocking P\n",
    "const f    = 1.000 #Fecundity\n",
    "const c    = 0.100 #cannibalism\n",
    "const k    = 1.000 #Attack rate F on J\n",
    "const r    = 0.500 #Forage fish growth rate\n",
    "const b    = 0.050 #Density dependent constant forage fish\n",
    "const h    = 1.500 #Attack rate P on F\n",
    "const i    = 0.050 #Stocking F\n",
    "const ϵ    = 0.250 #Trophic Efficiency\n",
    "const γ    = 1.000 #Area Ratio\n",
    "const σ₁   = 1.000 #Dispersal - predator pelagic to littoral\n",
    "const σ₂   = 1.000 #Dispersal - predator littoral to pelagic\n",
    "const σ₃   = 1.000 #Dispersal - forage pelagic to littoral\n",
    "const σ₄   = 1.000 #Dispersal - forage littoral to pelagic\n",
    "const σ₅   = 1.000 #Dispersal - juvenile pelagic to littoral\n",
    "const σ₆   = 1.000 #Dispersal - juvenile littoral to pelagic\n",
    "const tmat = 5.000 #Maturation time for juveniles to adult predators\n",
    "\n",
    "#State Variables\n",
    "u₀ = zeros(Float64,6)\n",
    "u₀[1] = 1.000 #Predator; Littoral\n",
    "u₀[2] = 1.000 #Predator; Palagic \n",
    "u₀[3] = 1.000 #Forager; Littoral\n",
    "u₀[4] = 1.000 #Forager; Palagic \n",
    "u₀[5] = 1.000 #Juveniles; Littoral\n",
    "u₀[6] = 1.000 #Juveniles; Palagic \n",
    "\n",
    "#Parameters\n",
    "p    = zeros(Float64,4)\n",
    "p[1] = 0.000 #Fishing effort\n",
    "p[2] = 1.000 #Dispersal Rate\n",
    "p[3] = 1.000 #Strength of refuge effect. Larger values = lower predation in littoral\n",
    "p[4] = 1.000 #\n",
    "\n",
    "#Timespan\n",
    "tᵢ  = 0.000 #Initial Time\n",
    "t_f = 1000.000 #Final Time\n",
    "tspan = (tᵢ,t_f)"
   ]
  },
  {
   "cell_type": "markdown",
   "id": "2570c0d5",
   "metadata": {},
   "source": [
    "### Simulation"
   ]
  },
  {
   "cell_type": "code",
   "execution_count": 19,
   "id": "e069f5d5",
   "metadata": {},
   "outputs": [
    {
     "ename": "LoadError",
     "evalue": "MethodError: no method matching iterate(::Plots.Plot{Plots.GRBackend}, ::Int64)\n\u001b[0mClosest candidates are:\n\u001b[0m  iterate(\u001b[91m::Union{LinRange, StepRangeLen}\u001b[39m, ::Integer) at range.jl:872\n\u001b[0m  iterate(\u001b[91m::T\u001b[39m, ::Int64) where T<:Union{Base.KeySet{<:Any, <:Dict}, Base.ValueIterator{<:Dict}} at dict.jl:712\n\u001b[0m  iterate(\u001b[91m::Union{Base.KeySet{<:Any, <:DataStructures.SwissDict}, Base.ValueIterator{<:DataStructures.SwissDict}}\u001b[39m, ::Any) at C:\\Users\\T_kolla\\.julia\\packages\\DataStructures\\59MD0\\src\\swiss_dict.jl:646\n\u001b[0m  ...",
     "output_type": "error",
     "traceback": [
      "MethodError: no method matching iterate(::Plots.Plot{Plots.GRBackend}, ::Int64)\n\u001b[0mClosest candidates are:\n\u001b[0m  iterate(\u001b[91m::Union{LinRange, StepRangeLen}\u001b[39m, ::Integer) at range.jl:872\n\u001b[0m  iterate(\u001b[91m::T\u001b[39m, ::Int64) where T<:Union{Base.KeySet{<:Any, <:Dict}, Base.ValueIterator{<:Dict}} at dict.jl:712\n\u001b[0m  iterate(\u001b[91m::Union{Base.KeySet{<:Any, <:DataStructures.SwissDict}, Base.ValueIterator{<:DataStructures.SwissDict}}\u001b[39m, ::Any) at C:\\Users\\T_kolla\\.julia\\packages\\DataStructures\\59MD0\\src\\swiss_dict.jl:646\n\u001b[0m  ...",
      "",
      "Stacktrace:",
      "  [1] indexed_iterate(I::Plots.Plot{Plots.GRBackend}, i::Int64, state::Int64)",
      "    @ Base .\\tuple.jl:96",
      "  [2] VF!(dz::Vector{Float64}, z::Vector{Float64}, p::Plots.Plot{Plots.GRBackend}, t::Float64)",
      "    @ Main .\\In[13]:3",
      "  [3] (::SciMLBase.Void{typeof(VF!)})(::Vector{Float64}, ::Vararg{Any})",
      "    @ SciMLBase C:\\Users\\T_kolla\\.julia\\packages\\SciMLBase\\VdcHg\\src\\utils.jl:468",
      "  [4] (::FunctionWrappers.CallWrapper{Nothing})(f::SciMLBase.Void{typeof(VF!)}, arg1::Vector{Float64}, arg2::Vector{Float64}, arg3::Plots.Plot{Plots.GRBackend}, arg4::Float64)",
      "    @ FunctionWrappers C:\\Users\\T_kolla\\.julia\\packages\\FunctionWrappers\\Q5cBx\\src\\FunctionWrappers.jl:65",
      "  [5] macro expansion",
      "    @ C:\\Users\\T_kolla\\.julia\\packages\\FunctionWrappers\\Q5cBx\\src\\FunctionWrappers.jl:137 [inlined]",
      "  [6] do_ccall",
      "    @ C:\\Users\\T_kolla\\.julia\\packages\\FunctionWrappers\\Q5cBx\\src\\FunctionWrappers.jl:125 [inlined]",
      "  [7] FunctionWrapper",
      "    @ C:\\Users\\T_kolla\\.julia\\packages\\FunctionWrappers\\Q5cBx\\src\\FunctionWrappers.jl:144 [inlined]",
      "  [8] _call",
      "    @ C:\\Users\\T_kolla\\.julia\\packages\\FunctionWrappersWrappers\\9XR0m\\src\\FunctionWrappersWrappers.jl:12 [inlined]",
      "  [9] FunctionWrappersWrapper",
      "    @ C:\\Users\\T_kolla\\.julia\\packages\\FunctionWrappersWrappers\\9XR0m\\src\\FunctionWrappersWrappers.jl:10 [inlined]",
      " [10] ODEFunction",
      "    @ C:\\Users\\T_kolla\\.julia\\packages\\SciMLBase\\VdcHg\\src\\scimlfunctions.jl:2126 [inlined]",
      " [11] initialize!(integrator::OrdinaryDiffEq.ODEIntegrator{Tsit5{typeof(OrdinaryDiffEq.trivial_limiter!), typeof(OrdinaryDiffEq.trivial_limiter!), Static.False}, true, Vector{Float64}, Nothing, Float64, Plots.Plot{Plots.GRBackend}, Float64, Float64, Float64, Float64, Vector{Vector{Float64}}, ODESolution{Float64, 2, Vector{Vector{Float64}}, Nothing, Nothing, Vector{Float64}, Vector{Vector{Vector{Float64}}}, ODEProblem{Vector{Float64}, Tuple{Float64, Float64}, true, Plots.Plot{Plots.GRBackend}, ODEFunction{true, SciMLBase.AutoSpecialize, FunctionWrappersWrappers.FunctionWrappersWrapper{Tuple{FunctionWrappers.FunctionWrapper{Nothing, Tuple{Vector{Float64}, Vector{Float64}, Plots.Plot{Plots.GRBackend}, Float64}}, FunctionWrappers.FunctionWrapper{Nothing, Tuple{Vector{ForwardDiff.Dual{ForwardDiff.Tag{DiffEqBase.OrdinaryDiffEqTag, Float64}, Float64, 1}}, Vector{ForwardDiff.Dual{ForwardDiff.Tag{DiffEqBase.OrdinaryDiffEqTag, Float64}, Float64, 1}}, Plots.Plot{Plots.GRBackend}, Float64}}, FunctionWrappers.FunctionWrapper{Nothing, Tuple{Vector{ForwardDiff.Dual{ForwardDiff.Tag{DiffEqBase.OrdinaryDiffEqTag, Float64}, Float64, 1}}, Vector{Float64}, Plots.Plot{Plots.GRBackend}, ForwardDiff.Dual{ForwardDiff.Tag{DiffEqBase.OrdinaryDiffEqTag, Float64}, Float64, 1}}}, FunctionWrappers.FunctionWrapper{Nothing, Tuple{Vector{ForwardDiff.Dual{ForwardDiff.Tag{DiffEqBase.OrdinaryDiffEqTag, Float64}, Float64, 1}}, Vector{ForwardDiff.Dual{ForwardDiff.Tag{DiffEqBase.OrdinaryDiffEqTag, Float64}, Float64, 1}}, Plots.Plot{Plots.GRBackend}, ForwardDiff.Dual{ForwardDiff.Tag{DiffEqBase.OrdinaryDiffEqTag, Float64}, Float64, 1}}}}, false}, UniformScaling{Bool}, Nothing, Nothing, Nothing, Nothing, Nothing, Nothing, Nothing, Nothing, Nothing, Nothing, Nothing, Nothing, Nothing, typeof(SciMLBase.DEFAULT_OBSERVED), Nothing, Nothing}, Base.Pairs{Symbol, Union{}, Tuple{}, NamedTuple{(), Tuple{}}}, SciMLBase.StandardODEProblem}, Tsit5{typeof(OrdinaryDiffEq.trivial_limiter!), typeof(OrdinaryDiffEq.trivial_limiter!), Static.False}, OrdinaryDiffEq.InterpolationData{ODEFunction{true, SciMLBase.AutoSpecialize, FunctionWrappersWrappers.FunctionWrappersWrapper{Tuple{FunctionWrappers.FunctionWrapper{Nothing, Tuple{Vector{Float64}, Vector{Float64}, Plots.Plot{Plots.GRBackend}, Float64}}, FunctionWrappers.FunctionWrapper{Nothing, Tuple{Vector{ForwardDiff.Dual{ForwardDiff.Tag{DiffEqBase.OrdinaryDiffEqTag, Float64}, Float64, 1}}, Vector{ForwardDiff.Dual{ForwardDiff.Tag{DiffEqBase.OrdinaryDiffEqTag, Float64}, Float64, 1}}, Plots.Plot{Plots.GRBackend}, Float64}}, FunctionWrappers.FunctionWrapper{Nothing, Tuple{Vector{ForwardDiff.Dual{ForwardDiff.Tag{DiffEqBase.OrdinaryDiffEqTag, Float64}, Float64, 1}}, Vector{Float64}, Plots.Plot{Plots.GRBackend}, ForwardDiff.Dual{ForwardDiff.Tag{DiffEqBase.OrdinaryDiffEqTag, Float64}, Float64, 1}}}, FunctionWrappers.FunctionWrapper{Nothing, Tuple{Vector{ForwardDiff.Dual{ForwardDiff.Tag{DiffEqBase.OrdinaryDiffEqTag, Float64}, Float64, 1}}, Vector{ForwardDiff.Dual{ForwardDiff.Tag{DiffEqBase.OrdinaryDiffEqTag, Float64}, Float64, 1}}, Plots.Plot{Plots.GRBackend}, ForwardDiff.Dual{ForwardDiff.Tag{DiffEqBase.OrdinaryDiffEqTag, Float64}, Float64, 1}}}}, false}, UniformScaling{Bool}, Nothing, Nothing, Nothing, Nothing, Nothing, Nothing, Nothing, Nothing, Nothing, Nothing, Nothing, Nothing, Nothing, typeof(SciMLBase.DEFAULT_OBSERVED), Nothing, Nothing}, Vector{Vector{Float64}}, Vector{Float64}, Vector{Vector{Vector{Float64}}}, OrdinaryDiffEq.Tsit5Cache{Vector{Float64}, Vector{Float64}, Vector{Float64}, typeof(OrdinaryDiffEq.trivial_limiter!), typeof(OrdinaryDiffEq.trivial_limiter!), Static.False}}, DiffEqBase.Stats, Nothing}, ODEFunction{true, SciMLBase.AutoSpecialize, FunctionWrappersWrappers.FunctionWrappersWrapper{Tuple{FunctionWrappers.FunctionWrapper{Nothing, Tuple{Vector{Float64}, Vector{Float64}, Plots.Plot{Plots.GRBackend}, Float64}}, FunctionWrappers.FunctionWrapper{Nothing, Tuple{Vector{ForwardDiff.Dual{ForwardDiff.Tag{DiffEqBase.OrdinaryDiffEqTag, Float64}, Float64, 1}}, Vector{ForwardDiff.Dual{ForwardDiff.Tag{DiffEqBase.OrdinaryDiffEqTag, Float64}, Float64, 1}}, Plots.Plot{Plots.GRBackend}, Float64}}, FunctionWrappers.FunctionWrapper{Nothing, Tuple{Vector{ForwardDiff.Dual{ForwardDiff.Tag{DiffEqBase.OrdinaryDiffEqTag, Float64}, Float64, 1}}, Vector{Float64}, Plots.Plot{Plots.GRBackend}, ForwardDiff.Dual{ForwardDiff.Tag{DiffEqBase.OrdinaryDiffEqTag, Float64}, Float64, 1}}}, FunctionWrappers.FunctionWrapper{Nothing, Tuple{Vector{ForwardDiff.Dual{ForwardDiff.Tag{DiffEqBase.OrdinaryDiffEqTag, Float64}, Float64, 1}}, Vector{ForwardDiff.Dual{ForwardDiff.Tag{DiffEqBase.OrdinaryDiffEqTag, Float64}, Float64, 1}}, Plots.Plot{Plots.GRBackend}, ForwardDiff.Dual{ForwardDiff.Tag{DiffEqBase.OrdinaryDiffEqTag, Float64}, Float64, 1}}}}, false}, UniformScaling{Bool}, Nothing, Nothing, Nothing, Nothing, Nothing, Nothing, Nothing, Nothing, Nothing, Nothing, Nothing, Nothing, Nothing, typeof(SciMLBase.DEFAULT_OBSERVED), Nothing, Nothing}, OrdinaryDiffEq.Tsit5Cache{Vector{Float64}, Vector{Float64}, Vector{Float64}, typeof(OrdinaryDiffEq.trivial_limiter!), typeof(OrdinaryDiffEq.trivial_limiter!), Static.False}, OrdinaryDiffEq.DEOptions{Float64, Float64, Float64, Float64, PIController{Rational{Int64}}, typeof(DiffEqBase.ODE_DEFAULT_NORM), typeof(opnorm), Nothing, CallbackSet{Tuple{}, Tuple{}}, typeof(DiffEqBase.ODE_DEFAULT_ISOUTOFDOMAIN), typeof(DiffEqBase.ODE_DEFAULT_PROG_MESSAGE), typeof(DiffEqBase.ODE_DEFAULT_UNSTABLE_CHECK), DataStructures.BinaryHeap{Float64, DataStructures.FasterForward}, DataStructures.BinaryHeap{Float64, DataStructures.FasterForward}, Nothing, Nothing, Int64, Tuple{}, Tuple{}, Tuple{}}, Vector{Float64}, Float64, Nothing, OrdinaryDiffEq.DefaultInit}, cache::OrdinaryDiffEq.Tsit5Cache{Vector{Float64}, Vector{Float64}, Vector{Float64}, typeof(OrdinaryDiffEq.trivial_limiter!), typeof(OrdinaryDiffEq.trivial_limiter!), Static.False})",
      "    @ OrdinaryDiffEq C:\\Users\\T_kolla\\.julia\\packages\\OrdinaryDiffEq\\xs0Fk\\src\\perform_step\\low_order_rk_perform_step.jl:766",
      " [12] __init(prob::ODEProblem{Vector{Float64}, Tuple{Float64, Float64}, true, Plots.Plot{Plots.GRBackend}, ODEFunction{true, SciMLBase.AutoSpecialize, FunctionWrappersWrappers.FunctionWrappersWrapper{Tuple{FunctionWrappers.FunctionWrapper{Nothing, Tuple{Vector{Float64}, Vector{Float64}, Plots.Plot{Plots.GRBackend}, Float64}}, FunctionWrappers.FunctionWrapper{Nothing, Tuple{Vector{ForwardDiff.Dual{ForwardDiff.Tag{DiffEqBase.OrdinaryDiffEqTag, Float64}, Float64, 1}}, Vector{ForwardDiff.Dual{ForwardDiff.Tag{DiffEqBase.OrdinaryDiffEqTag, Float64}, Float64, 1}}, Plots.Plot{Plots.GRBackend}, Float64}}, FunctionWrappers.FunctionWrapper{Nothing, Tuple{Vector{ForwardDiff.Dual{ForwardDiff.Tag{DiffEqBase.OrdinaryDiffEqTag, Float64}, Float64, 1}}, Vector{Float64}, Plots.Plot{Plots.GRBackend}, ForwardDiff.Dual{ForwardDiff.Tag{DiffEqBase.OrdinaryDiffEqTag, Float64}, Float64, 1}}}, FunctionWrappers.FunctionWrapper{Nothing, Tuple{Vector{ForwardDiff.Dual{ForwardDiff.Tag{DiffEqBase.OrdinaryDiffEqTag, Float64}, Float64, 1}}, Vector{ForwardDiff.Dual{ForwardDiff.Tag{DiffEqBase.OrdinaryDiffEqTag, Float64}, Float64, 1}}, Plots.Plot{Plots.GRBackend}, ForwardDiff.Dual{ForwardDiff.Tag{DiffEqBase.OrdinaryDiffEqTag, Float64}, Float64, 1}}}}, false}, UniformScaling{Bool}, Nothing, Nothing, Nothing, Nothing, Nothing, Nothing, Nothing, Nothing, Nothing, Nothing, Nothing, Nothing, Nothing, typeof(SciMLBase.DEFAULT_OBSERVED), Nothing, Nothing}, Base.Pairs{Symbol, Union{}, Tuple{}, NamedTuple{(), Tuple{}}}, SciMLBase.StandardODEProblem}, alg::Tsit5{typeof(OrdinaryDiffEq.trivial_limiter!), typeof(OrdinaryDiffEq.trivial_limiter!), Static.False}, timeseries_init::Tuple{}, ts_init::Tuple{}, ks_init::Tuple{}, recompile::Type{Val{true}}; saveat::Tuple{}, tstops::Tuple{}, d_discontinuities::Tuple{}, save_idxs::Nothing, save_everystep::Bool, save_on::Bool, save_start::Bool, save_end::Nothing, callback::Nothing, dense::Bool, calck::Bool, dt::Float64, dtmin::Nothing, dtmax::Float64, force_dtmin::Bool, adaptive::Bool, gamma::Rational{Int64}, abstol::Nothing, reltol::Nothing, qmin::Rational{Int64}, qmax::Int64, qsteady_min::Int64, qsteady_max::Int64, beta1::Nothing, beta2::Nothing, qoldinit::Rational{Int64}, controller::Nothing, fullnormalize::Bool, failfactor::Int64, maxiters::Int64, internalnorm::typeof(DiffEqBase.ODE_DEFAULT_NORM), internalopnorm::typeof(opnorm), isoutofdomain::typeof(DiffEqBase.ODE_DEFAULT_ISOUTOFDOMAIN), unstable_check::typeof(DiffEqBase.ODE_DEFAULT_UNSTABLE_CHECK), verbose::Bool, timeseries_errors::Bool, dense_errors::Bool, advance_to_tstop::Bool, stop_at_next_tstop::Bool, initialize_save::Bool, progress::Bool, progress_steps::Int64, progress_name::String, progress_message::typeof(DiffEqBase.ODE_DEFAULT_PROG_MESSAGE), userdata::Nothing, allow_extrapolation::Bool, initialize_integrator::Bool, alias_u0::Bool, alias_du0::Bool, initializealg::OrdinaryDiffEq.DefaultInit, kwargs::Base.Pairs{Symbol, Union{}, Tuple{}, NamedTuple{(), Tuple{}}})",
      "    @ OrdinaryDiffEq C:\\Users\\T_kolla\\.julia\\packages\\OrdinaryDiffEq\\xs0Fk\\src\\solve.jl:499",
      " [13] __init (repeats 5 times)",
      "    @ C:\\Users\\T_kolla\\.julia\\packages\\OrdinaryDiffEq\\xs0Fk\\src\\solve.jl:10 [inlined]",
      " [14] #__solve#640",
      "    @ C:\\Users\\T_kolla\\.julia\\packages\\OrdinaryDiffEq\\xs0Fk\\src\\solve.jl:5 [inlined]",
      " [15] __solve",
      "    @ C:\\Users\\T_kolla\\.julia\\packages\\OrdinaryDiffEq\\xs0Fk\\src\\solve.jl:1 [inlined]",
      " [16] #solve_call#22",
      "    @ C:\\Users\\T_kolla\\.julia\\packages\\DiffEqBase\\ihYDa\\src\\solve.jl:509 [inlined]",
      " [17] solve_call",
      "    @ C:\\Users\\T_kolla\\.julia\\packages\\DiffEqBase\\ihYDa\\src\\solve.jl:479 [inlined]",
      " [18] #solve_up#29",
      "    @ C:\\Users\\T_kolla\\.julia\\packages\\DiffEqBase\\ihYDa\\src\\solve.jl:932 [inlined]",
      " [19] solve_up",
      "    @ C:\\Users\\T_kolla\\.julia\\packages\\DiffEqBase\\ihYDa\\src\\solve.jl:905 [inlined]",
      " [20] #solve#27",
      "    @ C:\\Users\\T_kolla\\.julia\\packages\\DiffEqBase\\ihYDa\\src\\solve.jl:842 [inlined]",
      " [21] solve(prob::ODEProblem{Vector{Float64}, Tuple{Float64, Float64}, true, Plots.Plot{Plots.GRBackend}, ODEFunction{true, SciMLBase.AutoSpecialize, typeof(VF!), UniformScaling{Bool}, Nothing, Nothing, Nothing, Nothing, Nothing, Nothing, Nothing, Nothing, Nothing, Nothing, Nothing, Nothing, Nothing, typeof(SciMLBase.DEFAULT_OBSERVED), Nothing, Nothing}, Base.Pairs{Symbol, Union{}, Tuple{}, NamedTuple{(), Tuple{}}}, SciMLBase.StandardODEProblem}, args::Tsit5{typeof(OrdinaryDiffEq.trivial_limiter!), typeof(OrdinaryDiffEq.trivial_limiter!), Static.False})",
      "    @ DiffEqBase C:\\Users\\T_kolla\\.julia\\packages\\DiffEqBase\\ihYDa\\src\\solve.jl:832",
      " [22] top-level scope",
      "    @ In[19]:7"
     ]
    }
   ],
   "source": [
    "#Defining ODE problem\n",
    "prob = ODEProblem(\n",
    "    VF!,   #Vector Field\n",
    "    u₀,    #Initial Conditions State Variables\n",
    "    tspan, #Time Interval\n",
    "    p)     #Initial Conditions Parameters\n",
    "solution = solve(prob,Tsit5()) #Tsit5 --> Sitff ODE Solver\n",
    "\n",
    "# Plotting Solution\n",
    "# Plotting Solution\n",
    "predator_combined = solution[1,:] .+ solution[2,:]\n",
    "forager_combined = solution[3,:] .+ solution[4,:]\n",
    "juvenile_combined = solution[5,:] .+ solution[6,:]\n",
    "\n",
    "p1 = plot(solution.t, predator_combined,label=\"Abundance\", ylabel=\"   P\", ylims=(0, 11), yguidefontrotation=-90, legend = true)\n",
    "vline!(p1, [500], linestyle=:dash, linecolor=:red, label=\"Regime Shift\")\n",
    "\n",
    "p2 = plot(solution.t, forager_combined, ylabel=\"   F\", ylims=(0, 11), yguidefontrotation=-90, legend = false)\n",
    "vline!(p2, [500], linestyle=:dash, linecolor=:red)\n",
    "\n",
    "p3 = plot(solution.t, juvenile_combined, ylabel=\"   J\", ylims=(0, 11), yguidefontrotation=-90, legend = false)\n",
    "vline!(p3, [500], linestyle=:dash, linecolor=:red)\n",
    "\n",
    "p = plot(p1, p2, p3, layout=(3, 1), xlabel=\"Time\", title = [\"Combined Adult Predator Abundance\" \"Combined Juvenile Predator Abundance\" \"Combined Forager Abundance\"])\n"
   ]
  },
  {
   "cell_type": "code",
   "execution_count": null,
   "id": "81a7f362",
   "metadata": {},
   "outputs": [],
   "source": []
  }
 ],
 "metadata": {
  "kernelspec": {
   "display_name": "Julia 1.8.5",
   "language": "julia",
   "name": "julia-1.8"
  },
  "language_info": {
   "file_extension": ".jl",
   "mimetype": "application/julia",
   "name": "julia",
   "version": "1.8.5"
  }
 },
 "nbformat": 4,
 "nbformat_minor": 5
}
